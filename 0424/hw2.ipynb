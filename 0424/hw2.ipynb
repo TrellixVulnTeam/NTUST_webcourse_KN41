{
 "cells": [
  {
   "cell_type": "code",
   "execution_count": null,
   "metadata": {},
   "outputs": [
    {
     "name": "stdout",
     "output_type": "stream",
     "text": [
      "猜個數字88\n",
      "ha\n"
     ]
    }
   ],
   "source": [
    "while True:\n",
    "    a = input('猜個數字')\n",
    "    if a == '8':\n",
    "        print('答對了!')\n",
    "        break\n",
    "    elif a =='q':\n",
    "        print('bye bye')\n",
    "        break\n",
    "    else:\n",
    "        print('ha')"
   ]
  },
  {
   "cell_type": "code",
   "execution_count": null,
   "metadata": {},
   "outputs": [],
   "source": []
  }
 ],
 "metadata": {
  "kernelspec": {
   "display_name": "Python 3",
   "language": "python",
   "name": "python3"
  },
  "language_info": {
   "codemirror_mode": {
    "name": "ipython",
    "version": 3
   },
   "file_extension": ".py",
   "mimetype": "text/x-python",
   "name": "python",
   "nbconvert_exporter": "python",
   "pygments_lexer": "ipython3",
   "version": "3.6.8"
  }
 },
 "nbformat": 4,
 "nbformat_minor": 2
}
