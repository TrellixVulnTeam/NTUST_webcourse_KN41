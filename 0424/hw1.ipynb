{
 "cells": [
  {
   "cell_type": "code",
   "execution_count": null,
   "metadata": {},
   "outputs": [
    {
     "name": "stdout",
     "output_type": "stream",
     "text": [
      "成績80\n",
      "好神啊!\n",
      "成績3\n",
      "母湯哦\n",
      "成績11\n",
      "母湯哦\n",
      "成績111\n",
      "好神啊!\n",
      "成績60\n",
      "給你賽過了\n",
      "成績77\n",
      "給你賽過了\n"
     ]
    }
   ],
   "source": [
    "while True:\n",
    "    a = int(input('成績'))\n",
    "    if a>=80:\n",
    "        print('好神啊!')\n",
    "    elif a>=60:\n",
    "        print('給你賽過了')\n",
    "    else:\n",
    "        print('母湯哦')"
   ]
  },
  {
   "cell_type": "code",
   "execution_count": null,
   "metadata": {},
   "outputs": [],
   "source": []
  }
 ],
 "metadata": {
  "kernelspec": {
   "display_name": "Python 3",
   "language": "python",
   "name": "python3"
  },
  "language_info": {
   "codemirror_mode": {
    "name": "ipython",
    "version": 3
   },
   "file_extension": ".py",
   "mimetype": "text/x-python",
   "name": "python",
   "nbconvert_exporter": "python",
   "pygments_lexer": "ipython3",
   "version": "3.6.8"
  }
 },
 "nbformat": 4,
 "nbformat_minor": 2
}
